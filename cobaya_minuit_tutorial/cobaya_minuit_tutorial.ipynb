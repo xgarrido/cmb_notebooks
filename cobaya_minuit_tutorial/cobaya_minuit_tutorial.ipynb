{
 "cells": [
  {
   "cell_type": "markdown",
   "metadata": {},
   "source": [
    "## Cobaya tutorial\n",
    "\n"
   ]
  },
  {
   "cell_type": "markdown",
   "metadata": {},
   "source": [
    "This tutorial will go through the different steps to install a [MINUIT sampler for cobaya](https://github.com/xgarrido/cobaya-minuit-sampler) and to make\n",
    "use of it and its options. In a first part, we will see how to install everything from scratch\n",
    "(assuming `python` is correctly installed) and then we will see how to use the MINUIT minimizer to get\n",
    "the best cosmological values given a CMB power spectrum.\n",
    "\n",
    "You can interactively run this notebook *via* [![img](https://mybinder.org/badge_logo.svg)](https://mybinder.org/v2/gh/xgarrido/cmb_notebooks/master?filepath=cobaya_minuit_tutorial%2Fcobaya_minuit_tutorial.ipynb).\n",
    "\n",
    "**If you plan to try `cobaya` @ Lyon, you can get a working `python` environment by doing**\n",
    "\n",
    "    $ source /sps/planck/Temp/garrido.d/virtualenv.d/cobaya-tutorial.sh\n",
    "\n",
    "**and skip all the installation steps (even the `CAMB` installation).**\n",
    "\n"
   ]
  },
  {
   "cell_type": "markdown",
   "metadata": {},
   "source": [
    "### Installing MINUIT sampler\n",
    "\n"
   ]
  },
  {
   "cell_type": "markdown",
   "metadata": {},
   "source": [
    "#### Creating a virtual environment\n",
    "\n"
   ]
  },
  {
   "cell_type": "markdown",
   "metadata": {},
   "source": [
    "We first create virtual environment to encapsulate all the `python` work we will do. If you use a\n",
    "version of `python` greater than 2.7 then you just have to do\n",
    "\n",
    "    $ python -m venv /tmp/tutorial.d/env\n",
    "\n",
    "where `/tmp/python.d` will be our working directory. Change it to whatever you want. You should now\n",
    "have a `/tmp/python.d` directory holding a typical unix filesystem with `bin`, `lib` and `include`\n",
    "directories within. If you have a version of `python` smaller than 3, then you have to create your\n",
    "virtual env. with the `virtualenv` command as follow\n",
    "\n",
    "    $ virtualenv /tmp/tutorial.d/env\n",
    "\n",
    "If the `virtualenv` command does not exist and you do not have admin permissions to install it *via* a\n",
    "package manager, you can install with `pip` and put it in your home directory by doing\n",
    "\n",
    "    $ pip install --user virtualenv\n",
    "\n",
    "After the creation of your virtual env., you will need **to load it every time you open a new\n",
    "terminal** :\n",
    "\n",
    "    $ source /tmp/tutorial.d/env/bin/activate\n",
    "\n",
    "To make sure you are now using the `python` binary from your virtual env., you can try\n",
    "\n",
    "    $ which python\n",
    "\n",
    "which should point to `/tmp/tutorial.d/env/bin/python`.\n",
    "\n"
   ]
  },
  {
   "cell_type": "markdown",
   "metadata": {},
   "source": [
    "#### Installing MINUIT sampler for cobaya\n",
    "\n"
   ]
  },
  {
   "cell_type": "markdown",
   "metadata": {},
   "source": [
    "Now that you have a virtual env., you can download and install all python modules you want. There\n",
    "will be stored in the `/tmp/tutorial.d/env/lib/pythonX.X/site-packages` where `X.X` refers to your\n",
    "`python` version.\n",
    "\n",
    "Installing the MINUIT sampler for cobaya and all its dependencies should be as easy as\n",
    "\n",
    "    $ pip install git+https://github.com/xgarrido/cobaya-minuit-sampler.git\n",
    "\n",
    "This should install all the `cobaya` software framework with all `python` scientific library such as\n",
    "`numpy`, `scipy` and other CMB related stuff like [`GetDist`](https://github.com/cmbant/getdist).\n",
    "\n",
    "For plotting purpose, we will also install `matplotlib`<sup><a id=\"fnr.1\" class=\"footref\" href=\"#fn.1\">1</a></sup>\n",
    "\n",
    "    $ pip install matplotlib\n",
    "\n",
    "and `ipython` for interactive shell<sup><a id=\"fnr.2\" class=\"footref\" href=\"#fn.2\">2</a></sup>\n",
    "\n",
    "    $ pip install ipython\n",
    "\n",
    "\n",
    "# Footnotes\n",
    "\n",
    "<sup><a id=\"fn.1\" href=\"#fnr.1\">1</a></sup> this should be a dependency of `cobaya` *via* `GetDist` package but it seems not to\n",
    "be installed by `pip`\n",
    "\n",
    "<sup><a id=\"fn.2\" href=\"#fnr.2\">2</a></sup> you may need to rerun the `source` command line to make sure the proper `ipython`\n",
    "binary is used (and not the system wide one)\n"
   ]
  },
  {
   "cell_type": "markdown",
   "metadata": {},
   "source": [
    "### First try with cobaya\n",
    "\n"
   ]
  },
  {
   "cell_type": "markdown",
   "metadata": {},
   "source": [
    "#### Simulating a CMB power spectrum\n",
    "\n"
   ]
  },
  {
   "cell_type": "markdown",
   "metadata": {},
   "source": [
    "We will first try to simulate a fictitious CMB power spectrum to make use of `cobaya`'s theory\n",
    "block. `cobaya` can use [CAMB](https://github.com/cmbant/CAMB) as well as [CLASS](http://class-code.net/) and has a common interface to both of them *via* the\n",
    "`theory` block that we will use here. Nevertheless, the cosmological parameters syntax has not been\n",
    "uniformized so defining CMB variable names may change from one code to the other. For the time\n",
    "being, we will use CAMB and we will follow the following `cobaya`'s [tutorial](https://cobaya.readthedocs.io/en/latest/cosmo_external_likelihood.html).\n",
    "\n",
    "Let's first declare the CAMB variables at a given values\n",
    "\n"
   ]
  },
  {
   "cell_type": "code",
   "execution_count": 1,
   "metadata": {},
   "outputs": [],
   "source": [
    "params = {\n",
    "    \"ombh2\": 0.022, \"omch2\": 0.12, \"H0\": 68, \"tau\": 0.07,\n",
    "    \"As\": 2.2e-9, \"ns\": 0.96,\n",
    "    \"mnu\": 0.06, \"nnu\": 3.046, \"num_massive_neutrinos\": 1}"
   ]
  },
  {
   "cell_type": "markdown",
   "metadata": {},
   "source": [
    "Let's put this dictionary of values into `cobaya` internal system of configuration\n",
    "\n"
   ]
  },
  {
   "cell_type": "code",
   "execution_count": 2,
   "metadata": {},
   "outputs": [],
   "source": [
    "info = {\n",
    "    \"params\": params,\n",
    "    \"likelihood\": {\"one\": None},\n",
    "    \"theory\": {\"camb\": None}\n",
    "}"
   ]
  },
  {
   "cell_type": "markdown",
   "metadata": {},
   "source": [
    "`cobaya` is built upon different blocks which are so far a `params`, `likelihood` and `theory` blocks. Each\n",
    "of them belong to a special `python` class that can be overloaded. For instance, the `theory` class will\n",
    "instantiante `camb` but using CLASS is as simple as changing `camb` into `classy`. We will see later how\n",
    "to define our own likelihood and we will also adress how all these parameters can be pushed into a\n",
    "`yaml` file to be parsed by `cobaya`.\n",
    "\n",
    "We will now get the model given the above parameters\n",
    "\n"
   ]
  },
  {
   "cell_type": "code",
   "execution_count": 3,
   "metadata": {},
   "outputs": [
    {
     "name": "stdout",
     "output_type": "stream",
     "text": [
      "No sampled parameters requested! This will fail for non-mock samplers.\n",
      "Importing *global* CAMB.\n"
     ]
    }
   ],
   "source": [
    "from cobaya.model import get_model\n",
    "camb_model = get_model(info)"
   ]
  },
  {
   "cell_type": "markdown",
   "metadata": {},
   "source": [
    "You should now get a `ModuleNotFoundError` exception given that CAMB has not been found.\n",
    "\n",
    "    No sampled parameters requested! This will fail for non-mock samplers.\n",
    "    Importing *global* CAMB.\n",
    "    Couldn't find the CAMB python interface.\n",
    "    Make sure that you have compiled it, and that you either\n",
    "     (a) specify a path (you didn't) or\n",
    "     (b) install the Python interface globally with\n",
    "         '/path/to/camb/pycamb/python setup.py install --user'\n",
    "\n",
    "As the exception will tell you you can either define a `path` within the `theory` block above which\n",
    "points to `python` interface to CAMB or install CAMB by hand. Actually, since version 1.0.0, CAMB\n",
    "becomes a full python package and can be installed with `pip`\n",
    "\n",
    "    $ pip install camb\n",
    "\n",
    "If you plan to change CAMB then you have to `git` clone CAMB (**do not forget the `--recursive` option in\n",
    "the next `git` clone command**) and then install it (you will need a recent version of `gfortran`\n",
    "*i.e.* greater than 4.8 or `ifort` compiler)\n",
    "\n",
    "    $ git clone --recursive https://github.com/cmbant/CAMB.git /tmp/tutorial.d/modules/camb\n",
    "    \n",
    "    $ pip install -e .\n",
    "\n",
    "Now loading the `cobaya` model should work without any exception. We then have to tell `cobaya's theory`\n",
    "that we will need the computation of $C_\\ell$ up to $\\ell_\\text{max} = 1000$\n",
    "\n"
   ]
  },
  {
   "cell_type": "code",
   "execution_count": 4,
   "metadata": {},
   "outputs": [],
   "source": [
    "lmin, lmax = 2, 1000\n",
    "camb_model.likelihood.theory.needs(cl={\"tt\": lmax})"
   ]
  },
  {
   "cell_type": "markdown",
   "metadata": {},
   "source": [
    "and compute the CMB power spectrum (`ell_factor=True` means normalization by $\\ell(\\ell+1)/(2\\pi)$)\n",
    "\n"
   ]
  },
  {
   "cell_type": "code",
   "execution_count": 5,
   "metadata": {},
   "outputs": [],
   "source": [
    "camb_model.logposterior({})\n",
    "Dls = camb_model.likelihood.theory.get_cl(ell_factor=True)\n",
    "Dl_tt = Dls[\"tt\"]"
   ]
  },
  {
   "cell_type": "markdown",
   "metadata": {},
   "source": [
    "The first line, the empty dictionary of posteriors, actually means the parameters are all fixed.\n",
    "\n",
    "Finally, let's plot things between $(\\ell_\\text{min}, \\ell_\\text{max})$\n",
    "\n"
   ]
  },
  {
   "cell_type": "code",
   "execution_count": 6,
   "metadata": {},
   "outputs": [
    {
     "data": {
      "text/plain": [
       "Text(0, 0.5, '$D_\\\\ell$')"
      ]
     },
     "execution_count": 6,
     "metadata": {},
     "output_type": "execute_result"
    },
    {
     "data": {
      "image/png": "[encoded data removed]",
      "text/plain": [
       "<Figure size 432x288 with 1 Axes>"
      ]
     },
     "metadata": {
      "needs_background": "light"
     },
     "output_type": "display_data"
    }
   ],
   "source": [
    "%matplotlib inline\n",
    "import numpy as np\n",
    "import matplotlib.pyplot as plt\n",
    "\n",
    "l = np.arange(lmin, lmax)\n",
    "Dl = Dl_tt[lmin:lmax]\n",
    "plt.plot(l, Dl, \"r\")\n",
    "plt.xlabel(r\"$\\ell$\")\n",
    "plt.ylabel(r\"$D_\\ell$\")"
   ]
  },
  {
   "cell_type": "markdown",
   "metadata": {},
   "source": [
    "As we wil see later the `info` dictionary can be all declared within a `yaml` file to ease the `cobaya`'s\n",
    "configuration.\n",
    "\n"
   ]
  },
  {
   "cell_type": "markdown",
   "metadata": {},
   "source": [
    "#### Installing CLASS\n",
    "\n"
   ]
  },
  {
   "cell_type": "markdown",
   "metadata": {},
   "source": [
    "We see in the previous section how to install and use `CAMB` via `cobaya` interface. Using `CLASS` is\n",
    "pretty straightforward. You will eed first to install the `cython` library and then install `CLASS`\n",
    "itself\n",
    "\n",
    "    $ pip install cython\n",
    "    \n",
    "    $ git clone https://github.com/lesgourg/class_public.git /tmp/tutorial.d/modules/class\n",
    "    \n",
    "    $ cd /tmp/tutorial.d/modules/class\n",
    "    \n",
    "    $ make\n",
    "\n",
    "This will compile the C/C++ source code of `CLASS` and install its `python` interface named `classy`. You\n",
    "can now switch to it by doing\n",
    "\n"
   ]
  },
  {
   "cell_type": "code",
   "execution_count": 7,
   "metadata": {},
   "outputs": [],
   "source": [
    "from copy import deepcopy\n",
    "class_info = deepcopy(info)\n",
    "class_info[\"theory\"] = {\"classy\": None}"
   ]
  },
  {
   "cell_type": "markdown",
   "metadata": {},
   "source": [
    "and we should take care to give it the right parameter names\n",
    "\n"
   ]
  },
  {
   "cell_type": "code",
   "execution_count": 8,
   "metadata": {},
   "outputs": [],
   "source": [
    "class_params = {\n",
    "    \"omega_b\": 0.022, \"omega_cdm\": 0.12, \"H0\": 68, \"tau_reio\": 0.07,\n",
    "    \"A_s\": 2.2e-9, \"n_s\": 0.96,\n",
    "    \"m_ncdm\": 0.06, \"N_ur\": 2.0328, \"N_ncdm\": 1}\n",
    "class_info[\"params\"] = class_params"
   ]
  },
  {
   "cell_type": "markdown",
   "metadata": {},
   "source": [
    "Now we define the new model with its requirements\n",
    "\n"
   ]
  },
  {
   "cell_type": "code",
   "execution_count": 9,
   "metadata": {},
   "outputs": [
    {
     "name": "stdout",
     "output_type": "stream",
     "text": [
      "No sampled parameters requested! This will fail for non-mock samplers.\n",
      "Importing *global* CLASS.\n"
     ]
    },
    {
     "data": {
      "text/plain": [
       "logposterior(logpost=0.0, logpriors=[0], loglikes=array([0.]), derived=[])"
      ]
     },
     "execution_count": 9,
     "metadata": {},
     "output_type": "execute_result"
    }
   ],
   "source": [
    "class_model = get_model(class_info)\n",
    "class_model.likelihood.theory.needs(cl={\"tt\": lmax})\n",
    "class_model.logposterior({})"
   ]
  },
  {
   "cell_type": "markdown",
   "metadata": {},
   "source": [
    "and we can plot CAMB vs. CLASS\n",
    "\n"
   ]
  },
  {
   "cell_type": "code",
   "execution_count": 10,
   "metadata": {},
   "outputs": [
    {
     "data": {
      "text/plain": [
       "<matplotlib.legend.Legend at 0x7f7e8b8b1be0>"
      ]
     },
     "execution_count": 10,
     "metadata": {},
     "output_type": "execute_result"
    },
    {
     "data": {
      "image/png": "[encoded data removed]",
      "text/plain": [
       "<Figure size 432x288 with 2 Axes>"
      ]
     },
     "metadata": {
      "needs_background": "light"
     },
     "output_type": "display_data"
    }
   ],
   "source": [
    "Dls_class = class_model.likelihood.theory.get_cl(ell_factor=True)\n",
    "Dls_camb = camb_model.likelihood.theory.get_cl(ell_factor=True)\n",
    "Dl_tt_class, Dl_tt_camb = Dls_class[\"tt\"][lmin:lmax], Dls_camb[\"tt\"][lmin:lmax]\n",
    "\n",
    "grid = plt.GridSpec(4, 1, hspace=0, wspace=0)\n",
    "main = plt.subplot(grid[0:3], xticklabels=[])\n",
    "main.plot(l, Dl_tt_camb, \"r\", label=\"CAMB\")\n",
    "main.plot(l, Dl_tt_class, \"k\", label=\"CLASS\")\n",
    "main.set_ylabel(r\"$D_\\ell$\")\n",
    "main.legend()\n",
    "dev = plt.subplot(grid[3])\n",
    "dev.plot(l, Dl_tt_camb - Dl_tt_class, \"k\", label=\"CAMB - CLASS\")\n",
    "dev.set_ylabel(r\"$\\Delta D_\\ell$\")\n",
    "dev.set_xlabel(r\"$\\ell$\")\n",
    "dev.legend()"
   ]
  },
  {
   "cell_type": "markdown",
   "metadata": {},
   "source": [
    "## Using MINUIT sampler within cobaya\n",
    "\n"
   ]
  },
  {
   "cell_type": "markdown",
   "metadata": {},
   "source": [
    "Given the previous simulated spectrum, we will now bin it and slightly disturbed it to apply the\n",
    "MINUIT sampler and get back the best cosmological parameters from minimization.\n",
    "\n"
   ]
  },
  {
   "cell_type": "markdown",
   "metadata": {},
   "source": [
    "### Binning and building an \"observable\" CMB spectrum\n",
    "\n"
   ]
  },
  {
   "cell_type": "markdown",
   "metadata": {},
   "source": [
    "Let's define a function `bin_spectrum` that will compute the mean and its error on $D_\\ell$ value\n",
    "given a `delta_l` sample size\n",
    "\n"
   ]
  },
  {
   "cell_type": "code",
   "execution_count": 11,
   "metadata": {},
   "outputs": [],
   "source": [
    "def bin_spectrum(Dl, l, lmin, lmax, delta_l):\n",
    "    nbin = np.int(lmax/delta_l)\n",
    "    lb = np.zeros(nbin)\n",
    "    db = np.zeros(nbin)\n",
    "    err_db = np.zeros(nbin)\n",
    "    for i in range(nbin):\n",
    "        idx = np.where((l>i*delta_l) & (l<(i+1)*delta_l))\n",
    "        db[i] = np.mean(Dl[idx])\n",
    "        lb[i] = np.mean(l[idx])\n",
    "        err_db[i] = np.std(Dl[idx])/np.sqrt(np.alen(idx))\n",
    "    idx = np.where(lb>lmin)\n",
    "    lb, db, err_db = lb[idx], db[idx], err_db[idx]\n",
    "    return lb, db, err_db"
   ]
  },
  {
   "cell_type": "markdown",
   "metadata": {},
   "source": [
    "Bin the spectrum with a $\\Delta\\ell=30$ bin size and disturb it given the error bar\n",
    "\n"
   ]
  },
  {
   "cell_type": "code",
   "execution_count": 12,
   "metadata": {},
   "outputs": [],
   "source": [
    "delta_l = 30\n",
    "lb, Db, err_Db = bin_spectrum(Dl, l, lmin=lmin, lmax=lmax, delta_l=delta_l)\n",
    "Db_obs = Db + err_Db * np.random.randn(np.alen(err_Db))"
   ]
  },
  {
   "cell_type": "markdown",
   "metadata": {},
   "source": [
    "Let's plot everything together\n",
    "\n"
   ]
  },
  {
   "cell_type": "code",
   "execution_count": 13,
   "metadata": {},
   "outputs": [
    {
     "data": {
      "text/plain": [
       "Text(0.5, 0, '$\\\\ell$')"
      ]
     },
     "execution_count": 13,
     "metadata": {},
     "output_type": "execute_result"
    },
    {
     "data": {
      "image/png": "[encoded data removed]",
      "text/plain": [
       "<Figure size 432x288 with 2 Axes>"
      ]
     },
     "metadata": {
      "needs_background": "light"
     },
     "output_type": "display_data"
    }
   ],
   "source": [
    "grid = plt.GridSpec(4, 1, hspace=0, wspace=0)\n",
    "main = plt.subplot(grid[0:3], xticklabels=[])\n",
    "main.plot(l, Dl, \"red\")\n",
    "main.errorbar(lb, Db_obs, yerr=err_Db, fmt=\"ok\")\n",
    "main.set_ylabel(r\"$D_\\ell$\")\n",
    "chi2 = np.sum(((Db_obs - Db)/err_Db)**2)/np.alen(lb)\n",
    "main.text(0.75, 0.9, r\"$\\chi^2$/ndf = {:.3f}\".format(chi2),\n",
    "          transform=main.transAxes)\n",
    "\n",
    "dev = plt.subplot(grid[3], ylim=[-5,5])\n",
    "dev.plot(lb, (Db_obs - Db)/err_Db, \"ok\")\n",
    "dev.axhline(0, color=\"red\")\n",
    "dev.set_ylabel(r\"$\\Delta D_\\ell\\;[\\sigma]$\")\n",
    "dev.set_xlabel(r\"$\\ell$\")"
   ]
  },
  {
   "cell_type": "markdown",
   "metadata": {},
   "source": [
    "### Setting-up the minimization program\n",
    "\n"
   ]
  },
  {
   "cell_type": "markdown",
   "metadata": {},
   "source": [
    "Given the observable CMB spectrum *i.e.* `Db_obs` in our code, we will use MINUIT minimization algorithm\n",
    "to find the best cosmological parameter values. In this tutorial, we will only minimize against the\n",
    "spectrum amplitude $A_\\text{s}$. All the other parameters will be fixed to their simulated values.\n",
    "\n",
    "First we will define our likelihood\n",
    "\n"
   ]
  },
  {
   "cell_type": "code",
   "execution_count": 14,
   "metadata": {},
   "outputs": [],
   "source": [
    "def chi2(_theory={\"cl\": {\"tt\": lmax}}):\n",
    "    ls = np.arange(lmin, lmax)\n",
    "    Dl_theo = _theory.get_cl(ell_factor=True)[\"tt\"][lmin:lmax]\n",
    "    lb, Db_theo, _ = bin_spectrum(Dl_theo, ls, lmin, lmax, delta_l)\n",
    "    chi2 = np.sum(((Db_obs - Db_theo)/err_Db)**2)\n",
    "    return -chi2"
   ]
  },
  {
   "cell_type": "markdown",
   "metadata": {},
   "source": [
    "Our $\\chi^2$ function will need to get the binned $D_\\ell$ for every new set of cosmological\n",
    "parameters. `cobaya` provides the `theory` block as a parameter of the function with name `_theory` that\n",
    "must be respected. Since `cobaya` only deals with likelihood, we must return the negative value of\n",
    "$\\chi^2$ to make sure we maximize it over parameters (minimization process will minimize minus\n",
    "likelihood). We should now tell `cobaya` to use our likelihood function\n",
    "\n"
   ]
  },
  {
   "cell_type": "code",
   "execution_count": 15,
   "metadata": {},
   "outputs": [],
   "source": [
    "info[\"likelihood\"] = {\"chi2\": chi2}"
   ]
  },
  {
   "cell_type": "markdown",
   "metadata": {},
   "source": [
    "and that $A_\\text{s}$ may vary given a flat prior on its value\n",
    "\n"
   ]
  },
  {
   "cell_type": "code",
   "execution_count": 16,
   "metadata": {},
   "outputs": [
    {
     "data": {
      "text/plain": [
       "{'params': {'ombh2': 0.022,\n",
       "  'omch2': 0.12,\n",
       "  'H0': 68,\n",
       "  'tau': 0.07,\n",
       "  'As': {'prior': {'min': 1e-09, 'max': 4e-09}},\n",
       "  'ns': 0.96,\n",
       "  'mnu': 0.06,\n",
       "  'nnu': 3.046,\n",
       "  'num_massive_neutrinos': 1},\n",
       " 'likelihood': {'chi2': <function __main__.chi2(_theory={'cl': {'tt': 1000}})>},\n",
       " 'theory': {'camb': None}}"
      ]
     },
     "execution_count": 16,
     "metadata": {},
     "output_type": "execute_result"
    }
   ],
   "source": [
    "info[\"params\"][\"As\"] = {\"prior\": {\"min\": 1e-9, \"max\": 4e-9}}\n",
    "info"
   ]
  },
  {
   "cell_type": "markdown",
   "metadata": {},
   "source": [
    "To make sure everything has been set properly, we can slice our likelihood function along different\n",
    "$A_\\text{s}$ values\n",
    "\n"
   ]
  },
  {
   "cell_type": "code",
   "execution_count": 17,
   "metadata": {},
   "outputs": [
    {
     "name": "stdout",
     "output_type": "stream",
     "text": [
      "Importing *global* CAMB.\n"
     ]
    },
    {
     "data": {
      "text/plain": [
       "Text(0, 0.5, '$\\\\chi^2$')"
      ]
     },
     "execution_count": 17,
     "metadata": {},
     "output_type": "execute_result"
    },
    {
     "data": {
      "image/png": "[encoded data removed]",
      "text/plain": [
       "<Figure size 432x288 with 1 Axes>"
      ]
     },
     "metadata": {
      "needs_background": "light"
     },
     "output_type": "display_data"
    }
   ],
   "source": [
    "model = get_model(info)\n",
    "As = np.linspace(1e-9, 4e-9, 10)\n",
    "chi2s = [-model.loglike({\"As\": A})[0] for A in As]\n",
    "\n",
    "plt.plot(As, chi2s, \"-o\")\n",
    "plt.xlabel(r\"$A_\\mathrm{s}$\")\n",
    "plt.ylabel(r\"$\\chi^2$\")"
   ]
  },
  {
   "cell_type": "markdown",
   "metadata": {},
   "source": [
    "### Running MINUIT\n",
    "\n"
   ]
  },
  {
   "cell_type": "markdown",
   "metadata": {},
   "source": [
    "Now that everything is set-up, we can run MINUIT. We still have to set the `sampler` method to `cobaya`\n",
    "\n"
   ]
  },
  {
   "cell_type": "code",
   "execution_count": 18,
   "metadata": {},
   "outputs": [],
   "source": [
    "info[\"sampler\"] = {\"minuit\": None}"
   ]
  },
  {
   "cell_type": "markdown",
   "metadata": {},
   "source": [
    "with its default settings and do the minimization\n",
    "\n"
   ]
  },
  {
   "cell_type": "code",
   "execution_count": 19,
   "metadata": {},
   "outputs": [
    {
     "name": "stdout",
     "output_type": "stream",
     "text": [
      "Importing *global* CAMB.\n",
      "Initializing\n",
      "Reference values or pdf's for some parameters were not provided. Sampling from the prior instead for those parameters.\n",
      "Starting minimization.\n"
     ]
    },
    {
     "data": {
      "text/html": [
       "<hr>"
      ]
     },
     "metadata": {},
     "output_type": "display_data"
    },
    {
     "data": {
      "text/html": [
       "<table>\n",
       "    <tr>\n",
       "        <td title=\"Minimum value of function\">FCN = 47.35371845424666</td>\n",
       "        <td title=\"Total number of call to FCN so far\">TOTAL NCALL = 26</td>\n",
       "        <td title=\"Number of call in last migrad\">NCALLS = 26</td>\n",
       "    </tr>\n",
       "    <tr>\n",
       "        <td title=\"Estimated distance to minimum\">EDM = 5.62678012688683e-09</td>\n",
       "        <td title=\"Maximum EDM definition of convergence\">GOAL EDM = 1e-05</td>\n",
       "        <td title=\"Error def. Amount of increase in FCN to be defined as 1 standard deviation\">\n",
       "        UP = 1.0</td>\n",
       "    </tr>\n",
       "</table>\n",
       "<table>\n",
       "    <tr>\n",
       "        <td align=\"center\" title=\"Validity of the migrad call\">Valid</td>\n",
       "        <td align=\"center\" title=\"Validity of parameters\">Valid Param</td>\n",
       "        <td align=\"center\" title=\"Is Covariance matrix accurate?\">Accurate Covar</td>\n",
       "        <td align=\"center\" title=\"Positive definiteness of covariance matrix\">PosDef</td>\n",
       "        <td align=\"center\" title=\"Was covariance matrix made posdef by adding diagonal element\">Made PosDef</td>\n",
       "    </tr>\n",
       "    <tr>\n",
       "        <td align=\"center\" style=\"background-color:#92CCA6\">True</td>\n",
       "        <td align=\"center\" style=\"background-color:#92CCA6\">True</td>\n",
       "        <td align=\"center\" style=\"background-color:#92CCA6\">True</td>\n",
       "        <td align=\"center\" style=\"background-color:#92CCA6\">True</td>\n",
       "        <td align=\"center\" style=\"background-color:#92CCA6\">False</td>\n",
       "    </tr>\n",
       "    <tr>\n",
       "        <td align=\"center\" title=\"Was last hesse call fail?\">Hesse Fail</td>\n",
       "        <td align=\"center\" title=\"Validity of covariance\">HasCov</td>\n",
       "        <td align=\"center\" title=\"Is EDM above goal EDM?\">Above EDM</td>\n",
       "        <td align=\"center\"></td>\n",
       "        <td align=\"center\" title=\"Did last migrad call reach max call limit?\">Reach calllim</td>\n",
       "    </tr>\n",
       "    <tr>\n",
       "        <td align=\"center\" style=\"background-color:#92CCA6\">False</td>\n",
       "        <td align=\"center\" style=\"background-color:#92CCA6\">True</td>\n",
       "        <td align=\"center\" style=\"background-color:#92CCA6\">False</td>\n",
       "        <td align=\"center\"></td>\n",
       "        <td align=\"center\" style=\"background-color:#92CCA6\">False</td>\n",
       "    </tr>\n",
       "</table>"
      ]
     },
     "metadata": {},
     "output_type": "display_data"
    },
    {
     "data": {
      "text/html": [
       "<table>\n",
       "    <tr>\n",
       "        <td><a href=\"#\" onclick=\"$('#jChXIhfCxE').toggle()\">+</a></td>\n",
       "        <td title=\"Variable name\">Name</td>\n",
       "        <td title=\"Value of parameter\">Value</td>\n",
       "        <td title=\"Hesse error\">Hesse Error</td>\n",
       "        <td title=\"Minos lower error\">Minos Error-</td>\n",
       "        <td title=\"Minos upper error\">Minos Error+</td>\n",
       "        <td title=\"Lower limit of the parameter\">Limit-</td>\n",
       "        <td title=\"Upper limit of the parameter\">Limit+</td>\n",
       "        <td title=\"Is the parameter fixed in the fit\">Fixed?</td>\n",
       "    </tr>\n",
       "    <tr>\n",
       "        <td>0</td>\n",
       "        <td>x0</td>\n",
       "        <td>2.19885e-09</td>\n",
       "        <td>5.56787e-12</td>\n",
       "        <td></td>\n",
       "        <td></td>\n",
       "        <td>1e-09</td>\n",
       "        <td>4e-09</td>\n",
       "        <td>No</td>\n",
       "    </tr>\n",
       "</table>\n",
       "<pre id=\"jChXIhfCxE\" style=\"display:none;\">\n",
       "<textarea rows=\"8\" cols=\"50\" onclick=\"this.select()\" readonly>\n",
       "\\begin{tabular}{|c|r|r|r|r|r|r|r|c|}\n",
       "\\hline\n",
       " & Name & Value & Hesse Error & Minos Error- & Minos Error+ & Limit- & Limit+ & Fixed?\\\\\n",
       "\\hline\n",
       "0 & x0 & 2.19885e-09 & 5.56787e-12 &  &  & 1e-09 & 4e-09 & No\\\\\n",
       "\\hline\n",
       "\\end{tabular}\n",
       "</textarea>\n",
       "</pre>"
      ]
     },
     "metadata": {},
     "output_type": "display_data"
    },
    {
     "data": {
      "text/html": [
       "<hr>"
      ]
     },
     "metadata": {},
     "output_type": "display_data"
    },
    {
     "data": {
      "text/html": [
       "<hr>"
      ]
     },
     "metadata": {},
     "output_type": "display_data"
    },
    {
     "data": {
      "text/html": [
       "<table>\n",
       "    <tr>\n",
       "        <td title=\"Minimum value of function\">FCN = 47.35371844861947</td>\n",
       "        <td title=\"Total number of call to FCN so far\">TOTAL NCALL = 15</td>\n",
       "        <td title=\"Number of call in last migrad\">NCALLS = 15</td>\n",
       "    </tr>\n",
       "    <tr>\n",
       "        <td title=\"Estimated distance to minimum\">EDM = 4.4626330444555845e-13</td>\n",
       "        <td title=\"Maximum EDM definition of convergence\">GOAL EDM = 1e-05</td>\n",
       "        <td title=\"Error def. Amount of increase in FCN to be defined as 1 standard deviation\">\n",
       "        UP = 1.0</td>\n",
       "    </tr>\n",
       "</table>\n",
       "<table>\n",
       "    <tr>\n",
       "        <td align=\"center\" title=\"Validity of the migrad call\">Valid</td>\n",
       "        <td align=\"center\" title=\"Validity of parameters\">Valid Param</td>\n",
       "        <td align=\"center\" title=\"Is Covariance matrix accurate?\">Accurate Covar</td>\n",
       "        <td align=\"center\" title=\"Positive definiteness of covariance matrix\">PosDef</td>\n",
       "        <td align=\"center\" title=\"Was covariance matrix made posdef by adding diagonal element\">Made PosDef</td>\n",
       "    </tr>\n",
       "    <tr>\n",
       "        <td align=\"center\" style=\"background-color:#92CCA6\">True</td>\n",
       "        <td align=\"center\" style=\"background-color:#92CCA6\">True</td>\n",
       "        <td align=\"center\" style=\"background-color:#92CCA6\">True</td>\n",
       "        <td align=\"center\" style=\"background-color:#92CCA6\">True</td>\n",
       "        <td align=\"center\" style=\"background-color:#92CCA6\">False</td>\n",
       "    </tr>\n",
       "    <tr>\n",
       "        <td align=\"center\" title=\"Was last hesse call fail?\">Hesse Fail</td>\n",
       "        <td align=\"center\" title=\"Validity of covariance\">HasCov</td>\n",
       "        <td align=\"center\" title=\"Is EDM above goal EDM?\">Above EDM</td>\n",
       "        <td align=\"center\"></td>\n",
       "        <td align=\"center\" title=\"Did last migrad call reach max call limit?\">Reach calllim</td>\n",
       "    </tr>\n",
       "    <tr>\n",
       "        <td align=\"center\" style=\"background-color:#92CCA6\">False</td>\n",
       "        <td align=\"center\" style=\"background-color:#92CCA6\">True</td>\n",
       "        <td align=\"center\" style=\"background-color:#92CCA6\">False</td>\n",
       "        <td align=\"center\"></td>\n",
       "        <td align=\"center\" style=\"background-color:#92CCA6\">False</td>\n",
       "    </tr>\n",
       "</table>"
      ]
     },
     "metadata": {},
     "output_type": "display_data"
    },
    {
     "data": {
      "text/html": [
       "<table>\n",
       "    <tr>\n",
       "        <td><a href=\"#\" onclick=\"$('#crFlIHezwk').toggle()\">+</a></td>\n",
       "        <td title=\"Variable name\">Name</td>\n",
       "        <td title=\"Value of parameter\">Value</td>\n",
       "        <td title=\"Hesse error\">Hesse Error</td>\n",
       "        <td title=\"Minos lower error\">Minos Error-</td>\n",
       "        <td title=\"Minos upper error\">Minos Error+</td>\n",
       "        <td title=\"Lower limit of the parameter\">Limit-</td>\n",
       "        <td title=\"Upper limit of the parameter\">Limit+</td>\n",
       "        <td title=\"Is the parameter fixed in the fit\">Fixed?</td>\n",
       "    </tr>\n",
       "    <tr>\n",
       "        <td>0</td>\n",
       "        <td>x0</td>\n",
       "        <td>2.19885e-09</td>\n",
       "        <td>5.56787e-12</td>\n",
       "        <td></td>\n",
       "        <td></td>\n",
       "        <td>1e-09</td>\n",
       "        <td>4e-09</td>\n",
       "        <td>No</td>\n",
       "    </tr>\n",
       "</table>\n",
       "<pre id=\"crFlIHezwk\" style=\"display:none;\">\n",
       "<textarea rows=\"8\" cols=\"50\" onclick=\"this.select()\" readonly>\n",
       "\\begin{tabular}{|c|r|r|r|r|r|r|r|c|}\n",
       "\\hline\n",
       " & Name & Value & Hesse Error & Minos Error- & Minos Error+ & Limit- & Limit+ & Fixed?\\\\\n",
       "\\hline\n",
       "0 & x0 & 2.19885e-09 & 5.56787e-12 &  &  & 1e-09 & 4e-09 & No\\\\\n",
       "\\hline\n",
       "\\end{tabular}\n",
       "</textarea>\n",
       "</pre>"
      ]
     },
     "metadata": {},
     "output_type": "display_data"
    },
    {
     "data": {
      "text/html": [
       "<hr>"
      ]
     },
     "metadata": {},
     "output_type": "display_data"
    },
    {
     "name": "stdout",
     "output_type": "stream",
     "text": [
      "Finished succesfully.\n",
      "loglikelihood maximized at -47.3537\n",
      "Parameter values at maximum:\n",
      "   weight  minuslogpost            As  minuslogprior  minuslogprior__0  \\\n",
      "0     1.0     27.729065  2.198854e-09     -19.624654        -19.624654   \n",
      "\n",
      "        chi2  chi2__chi2  \n",
      "0  94.707437   94.707437  \n"
     ]
    }
   ],
   "source": [
    "from cobaya.run import run\n",
    "updated_info, products = run(info)"
   ]
  },
  {
   "cell_type": "markdown",
   "metadata": {},
   "source": [
    "The results of minimization are stored within the `products` variable which is a dictionary holding\n",
    "the `cobaya` formated results\n",
    "\n"
   ]
  },
  {
   "cell_type": "code",
   "execution_count": 20,
   "metadata": {},
   "outputs": [
    {
     "data": {
      "text/plain": [
       "   weight  minuslogpost            As  minuslogprior  minuslogprior__0  \\\n",
       "0     1.0     27.729065  2.198854e-09     -19.624654        -19.624654   \n",
       "\n",
       "        chi2  chi2__chi2  \n",
       "0  94.707437   94.707437  "
      ]
     },
     "execution_count": 20,
     "metadata": {},
     "output_type": "execute_result"
    }
   ],
   "source": [
    "products[\"maximum\"]"
   ]
  },
  {
   "cell_type": "markdown",
   "metadata": {},
   "source": [
    "as well as the [`scipy.optimize.OptimizeResult`](https://docs.scipy.org/doc/scipy/reference/generated/scipy.optimize.OptimizeResult.html)\n",
    "\n"
   ]
  },
  {
   "cell_type": "code",
   "execution_count": 21,
   "metadata": {},
   "outputs": [
    {
     "data": {
      "text/plain": [
       "      fun: 47.35371844861947\n",
       " hess_inv: array([[3.10013343e-23]])\n",
       "  message: 'Optimization terminated successfully.'\n",
       "   minuit: <iminuit._libiminuit.Minuit object at 0x563a75b3ead8>\n",
       "     nfev: 15\n",
       "     njev: 0\n",
       "     ntry: 1\n",
       "  success: True\n",
       "        x: array([2.19885384e-09])"
      ]
     },
     "execution_count": 21,
     "metadata": {},
     "output_type": "execute_result"
    }
   ],
   "source": [
    "products[\"OptimizeResult\"]"
   ]
  },
  {
   "cell_type": "markdown",
   "metadata": {},
   "source": [
    "We can plot the best $A_\\text{s}$ value found by MINUIT\n",
    "\n"
   ]
  },
  {
   "cell_type": "code",
   "execution_count": 22,
   "metadata": {},
   "outputs": [
    {
     "data": {
      "text/plain": [
       "<matplotlib.legend.Legend at 0x7f7e8b58e908>"
      ]
     },
     "execution_count": 22,
     "metadata": {},
     "output_type": "execute_result"
    },
    {
     "data": {
      "image/png": "[encoded data removed]",
      "text/plain": [
       "<Figure size 432x288 with 1 Axes>"
      ]
     },
     "metadata": {
      "needs_background": "light"
     },
     "output_type": "display_data"
    }
   ],
   "source": [
    "plt.plot(As, chi2s, \"ok\")\n",
    "plt.xlabel(r\"$A_\\mathrm{s}$\")\n",
    "plt.ylabel(r\"$\\chi^2$\")\n",
    "\n",
    "# Fit with a 2nd order polynomial\n",
    "p = np.poly1d(np.polyfit(As, chi2s, 2))\n",
    "x = np.linspace(As[0], As[-1], 100)\n",
    "plt.plot(x, p(x), \"-r\", label=\"polynomial fit\")\n",
    "\n",
    "minAs = products[\"OptimizeResult\"].x\n",
    "minChi2 = products[\"OptimizeResult\"].fun\n",
    "plt.plot(minAs, minChi2, \"sr\", label=\"min value\")\n",
    "plt.legend()"
   ]
  },
  {
   "cell_type": "markdown",
   "metadata": {},
   "source": [
    "Next steps will be to relax other cosmological parameters&#x2026;\n",
    "\n"
   ]
  },
  {
   "cell_type": "markdown",
   "metadata": {},
   "source": [
    "### Putting everything into yaml file\n",
    "\n"
   ]
  },
  {
   "cell_type": "markdown",
   "metadata": {},
   "source": [
    "`cobaya` configuration can be done as in the example above, through the generation of dictionary that\n",
    "must respect some name convention and other syntax rules (for instance, you can not name\n",
    "cosmological parameters other than `params`). As your projet will grow, it may be useful to use a `yaml`\n",
    "configuration file to tell `cobaya` which parameters, samplers or theory code you want to use. The\n",
    "minimization configuration can be written as\n",
    "\n",
    "    params:\n",
    "      # Fixed\n",
    "      ombh2: 0.022\n",
    "      omch2: 0.12\n",
    "      H0: 68\n",
    "      tau: 0.07\n",
    "      ns: 0.96\n",
    "      mnu: 0.06\n",
    "      nnu: 3.046\n",
    "      num_massive_neutrinos: 1\n",
    "      # Sampled\n",
    "      As:\n",
    "        prior:\n",
    "          min: 2.0e-9\n",
    "          max: 2.2e-9\n",
    "    \n",
    "      likelihood:\n",
    "        chi2: import_module(\"my_chi2\").chi2\n",
    "    \n",
    "      theory:\n",
    "        camb:\n",
    "          stop_at_error: False\n",
    "    \n",
    "      sampler:\n",
    "        minuit:\n",
    "\n",
    "where `my_chi2` refers to a `my_chi2.py` file holding the `chi2` function. More information on `yaml` syntax\n",
    "can be found [here](https://pyyaml.org/wiki/PyYAMLDocumentation).\n",
    "\n"
   ]
  }
 ],
 "metadata": {
  "kernelspec": {
   "display_name": "Python 3",
   "language": "python",
   "name": "python3"
  },
  "language_info": {
   "codemirror_mode": {
    "name": "ipython",
    "version": 3
   },
   "file_extension": ".py",
   "mimetype": "text/x-python",
   "name": "python",
   "nbconvert_exporter": "python",
   "pygments_lexer": "ipython3",
   "version": "3.7.2"
  },
  "org": null
 },
 "nbformat": 4,
 "nbformat_minor": 1
}

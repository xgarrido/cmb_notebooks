{
 "cells": [
  {
   "cell_type": "markdown",
   "metadata": {},
   "source": [
    "## pspy tutorials\n",
    "\n"
   ]
  },
  {
   "cell_type": "markdown",
   "metadata": {},
   "source": [
    "This directory holds several tutorials on how to use `pspy` API. They can be interactively run *via*\n",
    "[mybinder](https://mybinder.org/)\n",
    "\n",
    "[![img](https://mybinder.org/badge_logo.svg)](https://mybinder.org/v2/gh/simonsobs/LAT_MFLike/master?filepath=notebooks%2Fmflike_tutorial.ipynb)\n",
    "\n",
    "List of tutorials:\n",
    "\n",
    "-   [`tutorial_io`](tutorial_io.ipynb) shows how to read/write/plot SO map\n",
    "\n",
    "-   [`tutorial_projection`](tutorial_projection.ipynb) explains how to project an `HEALPIX` map to a `CAR` pixellised map\n",
    "\n",
    "-   [`tutorial_projection`](tutorial_projection.ipynb) shows how to generate spin0 and spin2 spectra for `CAR` pixellisation\n",
    "\n"
   ]
  }
 ],
 "metadata": {
  "kernelspec": {
   "display_name": "Python 3",
   "language": "python",
   "name": "python3"
  },
  "language_info": {
   "codemirror_mode": {
    "name": "ipython",
    "version": 3
   },
   "file_extension": ".py",
   "mimetype": "text/x-python",
   "name": "python",
   "nbconvert_exporter": "python",
   "pygments_lexer": "ipython3",
   "version": "3.8.1"
  },
  "org": null
 },
 "nbformat": 4,
 "nbformat_minor": 1
}
